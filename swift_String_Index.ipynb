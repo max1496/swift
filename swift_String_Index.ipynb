{
  "nbformat": 4,
  "nbformat_minor": 0,
  "metadata": {
    "colab": {
      "name": "swift String.Index.ipynb",
      "provenance": [],
      "collapsed_sections": [],
      "authorship_tag": "ABX9TyO3yF4p5+FeAWa0QNZnO8zU",
      "include_colab_link": true
    },
    "kernelspec": {
      "name": "python3",
      "display_name": "Python 3"
    },
    "language_info": {
      "name": "python"
    }
  },
  "cells": [
    {
      "cell_type": "markdown",
      "metadata": {
        "id": "view-in-github",
        "colab_type": "text"
      },
      "source": [
        "<a href=\"https://colab.research.google.com/github/max1496/swift/blob/main/swift_String_Index.ipynb\" target=\"_parent\"><img src=\"https://colab.research.google.com/assets/colab-badge.svg\" alt=\"Open In Colab\"/></a>"
      ]
    },
    {
      "cell_type": "markdown",
      "source": [
        "파이썬이나 여타 언어들에서는 손쉽게 int로 배열의 인덱스에 접근할 수 있지만\n",
        "\n",
        "swift의 경우 String.Index 타입을 이용해야한다. 바로 예를 들겠다.\n",
        "\n"
      ],
      "metadata": {
        "id": "zHM-K9n3ME1D"
      }
    },
    {
      "cell_type": "code",
      "source": [
        "a = \"abc\"\n",
        "print(a[0]) # a"
      ],
      "metadata": {
        "id": "RKm3i9b-MKLK"
      },
      "execution_count": null,
      "outputs": []
    },
    {
      "cell_type": "markdown",
      "source": [
        "파이썬에서는 이는 너무 당연하다. 하지만 스위프트의 경우"
      ],
      "metadata": {
        "id": "uARjLZn4MMFu"
      }
    },
    {
      "cell_type": "markdown",
      "source": [
        "var a = \"abc\"\n",
        "print(a[a.startIndex]) // a"
      ],
      "metadata": {
        "id": "k_ot0kNsNNTK"
      }
    },
    {
      "cell_type": "markdown",
      "source": [
        "위의 파이썬 코드와 동일한 코드이다.\n",
        "startIndex와 endIndex는 처음과 끝 인덱스를 의미하지만 endIndex는 파이썬으로 치면 len(a)와 같아서 a라는 문자열이 있다고 치면 a의 길이와 같다. 즉 인덱스 측면에서 봤을때는 1을 빼줘야한다. 코드로 설명하면"
      ],
      "metadata": {
        "id": "sqQDhVpHMZ0g"
      }
    },
    {
      "cell_type": "markdown",
      "source": [
        "let thirdIndex = a.index(a.startIndex, offsetBy: 2)\n",
        "print(a[thirdIndex]) //c"
      ],
      "metadata": {
        "id": "hyICEGRxNXIq"
      }
    },
    {
      "cell_type": "markdown",
      "source": [
        "그렇다면 3번째 인덱스는 어떻게 구해줘야할까? 물론 after: 메소드를 한번 더 사용할 수도 있겠지만 아래와 같이 더 편한 방법이 있다."
      ],
      "metadata": {
        "id": "OkGUSsDNMfy8"
      }
    },
    {
      "cell_type": "markdown",
      "source": [
        "let thirdIndex = a.index(a.startIndex, offsetBy: 2)\n",
        "print(a[thirdIndex]) //c"
      ],
      "metadata": {
        "id": "NcaXumCFNZ5D"
      }
    },
    {
      "cell_type": "markdown",
      "source": [
        "offsetBy 파라미터는 음수가 될수도 있다."
      ],
      "metadata": {
        "id": "pIMG78B-MjRl"
      }
    },
    {
      "cell_type": "markdown",
      "source": [
        "let thirdIndex = a.index(a.startIndex, offsetBy: -1)\n",
        "print(a[thirdIndex]) //오류\n",
        "\n",
        "let thirdIndex = a.index(a.endIndex, offsetBy: -1)\n",
        "print(a[thirdIndex]) //c"
      ],
      "metadata": {
        "id": "M19enIV8NdAJ"
      }
    },
    {
      "cell_type": "markdown",
      "source": [
        "아래와 같이 문자를 검색해서 인덱스를 찾는 방법도 있습니다."
      ],
      "metadata": {
        "id": "hycxv_jBMn0b"
      }
    },
    {
      "cell_type": "markdown",
      "source": [
        "a.index(of: \"c\")"
      ],
      "metadata": {
        "id": "QPX3sbm0NfH3"
      }
    },
    {
      "cell_type": "markdown",
      "source": [
        "그렇다면 substring은 어떻게 구할까요? 문자열 슬라이싱을 할까요? 아닙니다. 제 생각엔 이 부분이 정적 타이핑 언어로서 스위프트를 어렵게 느끼게 하는것 같아요. 2~5번째 인덱스에 해당하는 내용을 구하는 코드는 다음과 같습니다."
      ],
      "metadata": {
        "id": "wOSEcCYXMq1o"
      }
    },
    {
      "cell_type": "markdown",
      "source": [
        "var string = \"Hello World\"\n",
        "var start = string.index(after: string.startIndex)\n",
        "var end = string.index(string.startIndex, offsetBy:5)\n",
        "var substring = string[start..<end]\n",
        "print(substring)"
      ],
      "metadata": {
        "id": "PPNiID8_MueD"
      }
    }
  ]
}